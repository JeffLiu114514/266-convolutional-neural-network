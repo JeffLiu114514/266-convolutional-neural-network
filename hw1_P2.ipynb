{
 "cells": [
  {
   "cell_type": "code",
   "execution_count": 2,
   "metadata": {},
   "outputs": [],
   "source": [
    "from torchvision.io import read_image\n",
    "from torchvision.models import resnet50, ResNet50_Weights, swin_t, Swin_T_Weights\n",
    "import torch\n",
    "\n",
    "img = read_image(\"./fruit.jpg\")\n",
    "\n"
   ]
  },
  {
   "cell_type": "code",
   "execution_count": 3,
   "metadata": {},
   "outputs": [
    {
     "name": "stderr",
     "output_type": "stream",
     "text": [
      "Downloading: \"https://download.pytorch.org/models/resnet50-11ad3fa6.pth\" to C:\\Users\\23566/.cache\\torch\\hub\\checkpoints\\resnet50-11ad3fa6.pth\n"
     ]
    },
    {
     "data": {
      "application/vnd.jupyter.widget-view+json": {
       "model_id": "485a4849360f48e6b8711c620888a386",
       "version_major": 2,
       "version_minor": 0
      },
      "text/plain": [
       "  0%|          | 0.00/97.8M [00:00<?, ?B/s]"
      ]
     },
     "metadata": {},
     "output_type": "display_data"
    },
    {
     "name": "stdout",
     "output_type": "stream",
     "text": [
      "jackfruit: 56.8%\n",
      "custard apple: 1.7%\n",
      "pineapple: 1.4%\n"
     ]
    }
   ],
   "source": [
    "\n",
    "res_weights = ResNet50_Weights.DEFAULT\n",
    "model = resnet50(weights=res_weights)\n",
    "model.eval()\n",
    "preprocess = res_weights.transforms()\n",
    "batch = preprocess(img).unsqueeze(0)\n",
    "\n",
    "prediction = model(batch).squeeze(0).softmax(0)\n",
    "class_id = prediction.argmax().item()\n",
    "prediction = model(batch).squeeze(0).softmax(0)\n",
    "class_id = torch.topk(prediction, 3).indices\n",
    "for id in class_id:\n",
    "    score = prediction[id].item()\n",
    "    category_name = res_weights.meta[\"categories\"][id]\n",
    "    print(f\"{category_name}: {100 * score:.1f}%\")"
   ]
  },
  {
   "cell_type": "code",
   "execution_count": 4,
   "metadata": {},
   "outputs": [
    {
     "name": "stderr",
     "output_type": "stream",
     "text": [
      "Downloading: \"https://download.pytorch.org/models/swin_t-704ceda3.pth\" to C:\\Users\\23566/.cache\\torch\\hub\\checkpoints\\swin_t-704ceda3.pth\n"
     ]
    },
    {
     "data": {
      "application/vnd.jupyter.widget-view+json": {
       "model_id": "ca03fb62b1114e629545807c85751ad7",
       "version_major": 2,
       "version_minor": 0
      },
      "text/plain": [
       "  0%|          | 0.00/108M [00:00<?, ?B/s]"
      ]
     },
     "metadata": {},
     "output_type": "display_data"
    },
    {
     "name": "stdout",
     "output_type": "stream",
     "text": [
      "jackfruit: 60.6%\n",
      "custard apple: 9.0%\n",
      "strawberry: 4.9%\n"
     ]
    }
   ],
   "source": [
    "\n",
    "swin_weights = Swin_T_Weights.DEFAULT\n",
    "swin_model = swin_t(weights=swin_weights)\n",
    "swin_model.eval()\n",
    "preprocess = swin_weights.transforms()\n",
    "batch = preprocess(img).unsqueeze(0)\n",
    "\n",
    "prediction = swin_model(batch).squeeze(0).softmax(0)\n",
    "class_id = prediction.argmax().item()\n",
    "prediction = swin_model(batch).squeeze(0).softmax(0)\n",
    "class_id = torch.topk(prediction, 3).indices\n",
    "for id in class_id:\n",
    "    score = prediction[id].item()\n",
    "    category_name = swin_weights.meta[\"categories\"][id]\n",
    "    print(f\"{category_name}: {100 * score:.1f}%\")"
   ]
  },
  {
   "cell_type": "code",
   "execution_count": null,
   "metadata": {},
   "outputs": [],
   "source": []
  }
 ],
 "metadata": {
  "kernelspec": {
   "display_name": "Python 3 (ipykernel)",
   "language": "python",
   "name": "python3"
  },
  "language_info": {
   "codemirror_mode": {
    "name": "ipython",
    "version": 3
   },
   "file_extension": ".py",
   "mimetype": "text/x-python",
   "name": "python",
   "nbconvert_exporter": "python",
   "pygments_lexer": "ipython3",
   "version": "3.10.7"
  },
  "vscode": {
   "interpreter": {
    "hash": "2f9cb9eeec0a8abc1becfd8e249843c74f8ac64621955cfccf1b9df18ca3e666"
   }
  }
 },
 "nbformat": 4,
 "nbformat_minor": 2
}
